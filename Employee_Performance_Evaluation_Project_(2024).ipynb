{
  "cells": [
    {
      "cell_type": "markdown",
      "metadata": {
        "id": "VUUKeL9swLud"
      },
      "source": [
        "## Employee Performance Analysis and Enhancement at INX Future Inc\n",
        "\n",
        "# Problem Statement:\n",
        "INX Future Inc., a leading data analytics and automation solutions provider, is experiencing declining employee performance, which is impacting service delivery and client satisfaction levels. Despite being recognized as one of the top 20 best employers for the past five years, recent performance issues have raised concerns among the company's top management. This project seeks to identify the underlying factors contributing to this decline and to find solutions that can improve overall employee performance without negatively affecting employee morale.\n",
        "\n",
        "# Project Objectives:\n",
        "1. Departmental Performance Analysis: Assess and compare performance across different departments to identify areas with significant performance issues.\n",
        "2. Key Factors Identification: Determine the top three most influential factors affecting employee performance, based on data analysis.\n",
        "3. Predictive Model Development and Comparison: Develop and compare the performance of a RandomForestClassifier and an XGBoost model, chosen for their robustness and ability to handle complex data, to predict employee performance. The comparison will identify the best model for supporting future hiring decisions.\n",
        "4. Recommendations: Provide actionable recommendations to the management of INX Future Inc. for improving employee performance based on the insights derived from the analysis and model comparisons.\n",
        "\n",
        "# Goal of Project:\n",
        "The rationale behind this project is to equip INX Future Inc.'s management with data-driven insights to address the declining employee performance. By understanding the core issues, the company can make informed decisions that not only improve performance but also maintain or even enhance employee morale. This will help INX Future Inc. to sustain its reputation as a top employer, ensure high client satisfaction, and remain competitive in the industry. The predictive model will further aid in hiring the right talent, ensuring long-term organizational success.\n",
        "\n",
        "The RandomForestClassifier and XGBoost models have been selected for their ability to handle complex, structured data, provide insights into feature importance, manage imbalanced datasets, and deliver high predictive performance. These models are well-suited for predicting employee performance, allowing the analysis to be both accurate and interpretable. By comparing these models, the project will identify the most effective approach for predicting employee performance, ultimately aiding in better hiring and management decisions.\n",
        "\n",
        "\n"
      ]
    },
    {
      "cell_type": "markdown",
      "metadata": {
        "id": "BCZYL1LtwLun"
      },
      "source": [
        "1. IMPORT LIBRARIES"
      ]
    },
    {
      "cell_type": "code",
      "execution_count": null,
      "metadata": {
        "id": "ckeu969nwLuo"
      },
      "outputs": [],
      "source": [
        "# import libraries\n",
        "import numpy as np\n",
        "import pandas as pd\n",
        "import matplotlib.pyplot as plt\n",
        "import seaborn as sns\n",
        "from sklearn.model_selection import train_test_split\n",
        "from sklearn.ensemble import RandomForestClassifier\n",
        "from sklearn.metrics import classification_report, confusion_matrix, accuracy_score\n",
        "from sklearn.preprocessing import LabelEncoder\n",
        "from sklearn.model_selection import GridSearchCV\n",
        "#from xgboost import XGBClassifier\n",
        "\n",
        "import warnings\n",
        "warnings.filterwarnings('ignore')"
      ]
    },
    {
      "cell_type": "markdown",
      "source": [
        "**Comment**\n",
        "\n",
        "- Pandas is used for efficient data manipulation and analysis through its powerful DataFrame structure.\n",
        "\n",
        "- Numpy is crucial for performing efficient numerical computations and handling large datasets.\n",
        "\n",
        "- Matplotlib is used for creating diverse and high-quality visualizations of your data.\n",
        "\n",
        "- Seaborn enhances data visualization by simplifying the creation of attractive and informative statistical graphics.\n",
        "\n",
        "- The warnings module is used to suppress non-critical warnings, ensuring a cleaner and more focused output."
      ],
      "metadata": {
        "id": "D4x-jtkowVDd"
      }
    },
    {
      "cell_type": "markdown",
      "metadata": {
        "id": "N22ebX4jwLur"
      },
      "source": [
        "2. DATA LOADING AND EXPLORATION"
      ]
    },
    {
      "cell_type": "code",
      "execution_count": null,
      "metadata": {
        "id": "DIx2i-AYwLus"
      },
      "outputs": [],
      "source": [
        "# load data\n",
        "df = pd.read_excel(\"/content/INX_Future_Inc_Employee_Performance_CDS_Project2_Data_V1.8 (1).xls\")\n",
        "df.head()"
      ]
    },
    {
      "cell_type": "code",
      "execution_count": null,
      "metadata": {
        "id": "rZmkp2ZJwLuu"
      },
      "outputs": [],
      "source": [
        "df.info() # check for missing values and data types"
      ]
    },
    {
      "cell_type": "code",
      "source": [
        "df.isnull().sum()"
      ],
      "metadata": {
        "id": "fQ0vCo4ryutl"
      },
      "execution_count": null,
      "outputs": []
    },
    {
      "cell_type": "code",
      "execution_count": null,
      "metadata": {
        "id": "JFUhZLk6wLuv"
      },
      "outputs": [],
      "source": [
        "# check for duplicates\n",
        "df.duplicated().sum()"
      ]
    },
    {
      "cell_type": "code",
      "execution_count": null,
      "metadata": {
        "id": "DHKgpgDmwLuw"
      },
      "outputs": [],
      "source": [
        "# check for unique values\n",
        "df.nunique()"
      ]
    },
    {
      "cell_type": "markdown",
      "metadata": {
        "id": "-jOe2GmcwLux"
      },
      "source": [
        "Observations:\n",
        "\n",
        "The dataset contains various attributes related to employee demographics, job roles, and performance metrics, as follows:\n",
        "\n",
        "- EmpNumber: Unique identifier for each employee.\n",
        "Age, Gender, EducationBackground, MaritalStatus: Personal information about employees.\n",
        "- EmpDepartment, EmpJobRole, BusinessTravelFrequency, DistanceFromHome: Job-related details.\n",
        "- EmpEducationLevel, TotalWorkExperienceInYears, TrainingTimesLastYear, EmpWorkLifeBalance: Information about education, experience, and training.\n",
        "- ExperienceYearsAtThisCompany, ExperienceYearsInCurrentRole, YearsSinceLastPromotion, YearsWithCurrManager: Tenure and role-specific experience.\n",
        "- Attrition, PerformanceRating: Employee retention and performance ratings.\n",
        "\n",
        "The attributes are contained in 28 columns with 1,200 entries. The dataset has no missing values and no duplicates"
      ]
    },
    {
      "cell_type": "markdown",
      "metadata": {
        "id": "4x-cJJjpwLuz"
      },
      "source": [
        "3. EXPLORATORY DATA ANALYSIS"
      ]
    },
    {
      "cell_type": "code",
      "execution_count": null,
      "metadata": {
        "id": "RVEA9mgowLuz"
      },
      "outputs": [],
      "source": [
        "# summary statistics\n",
        "df.describe()"
      ]
    },
    {
      "cell_type": "code",
      "execution_count": null,
      "metadata": {
        "id": "eg4eO3R4wLu0"
      },
      "outputs": [],
      "source": [
        "# distribution of numerical features\n",
        "\n",
        "# Set up the plot for distribution analysis\n",
        "plt.figure(figsize=(15, 12))\n",
        "\n",
        "# Select key numerical features for distribution analysis\n",
        "key_numerical_features = [\n",
        "    'Age', 'DistanceFromHome', 'TotalWorkExperienceInYears',\n",
        "    'ExperienceYearsAtThisCompany', 'TrainingTimesLastYear', 'PerformanceRating'\n",
        "]\n",
        "\n",
        "# Plot histograms for the selected numerical features\n",
        "for i, feature in enumerate(key_numerical_features, 1):\n",
        "    plt.subplot(2, 3, i)  # 2 rows, 3 columns\n",
        "    sns.histplot(df[feature], kde=True)\n",
        "    plt.title(f'Distribution of {feature}')\n",
        "\n",
        "# Display the plots\n",
        "plt.tight_layout()\n",
        "plt.show()"
      ]
    },
    {
      "cell_type": "code",
      "execution_count": null,
      "metadata": {
        "id": "zurWi_qGwLu1"
      },
      "outputs": [],
      "source": [
        "# distribution of categorical features\n",
        "\n",
        "# Set up the plot for categorical feature analysis\n",
        "plt.figure(figsize=(18, 12))\n",
        "\n",
        "# Select key categorical features for analysis\n",
        "categorical_features = ['Gender', 'EmpDepartment', 'EmpJobRole', 'MaritalStatus', 'BusinessTravelFrequency', 'Attrition']\n",
        "\n",
        "# Plot count plots for the selected categorical features\n",
        "for i, feature in enumerate(categorical_features, 1):\n",
        "    plt.subplot(2, 3, i)  # 2 rows, 3 columns\n",
        "    sns.countplot(x=df[feature])\n",
        "    plt.title(f'Distribution of {feature}')\n",
        "    plt.xticks(rotation=90)\n",
        "\n",
        "# Display the plots\n",
        "plt.tight_layout()\n",
        "plt.show()"
      ]
    },
    {
      "cell_type": "code",
      "source": [
        "# Performance Ratings Across Different Departments\n",
        "plt.figure(figsize=(10, 6))\n",
        "sns.barplot(data=df, x=\"EmpDepartment\", y=\"PerformanceRating\", hue=\"EmpDepartment\")\n",
        "plt.title(\"Departmental vs perfomance rating\")\n",
        "plt.xlabel(\"EmpDepartment\")\n",
        "plt.ylabel(\"PerformanceRating\")\n",
        "plt.show()"
      ],
      "metadata": {
        "id": "ceNyUAvuxB1D"
      },
      "execution_count": null,
      "outputs": []
    },
    {
      "cell_type": "markdown",
      "source": [
        "**Comment**\n",
        "\n",
        "- The average performance ratings of personnel in the organization's various departments are displayed in a bar plot. The graph indicates a general consistency in performance evaluations across all divisions of the organisation, with the majority of departments having average performance ratings that are similar and hover around 3.0. There are, nevertheless, a few minor differences: departments such as Development and Research & Development have slightly better average scores than departments like Sales and Finance. This distribution shows that some departments may have slightly better performance outcomes even though the organization's performance standards may be the same. By examining these differences, one can gain knowledge about the efficiency of the department, how resources are allocated, and where performance might be improved."
      ],
      "metadata": {
        "id": "e2qHCFnsxFlS"
      }
    },
    {
      "cell_type": "code",
      "source": [
        "# perfomance rating and age\n",
        "sns.relplot(\n",
        "    data=df, kind=\"line\",\n",
        "    x=\"Age\", y=\"PerformanceRating\",\n",
        "    # hue=\"region\",  # Uncomment if you have a 'region' column and want to use it for grouping\n",
        "    # units=\"subject\", estimator=None,  # Adjust these parameters as needed\n",
        ")\n",
        "plt.title(\"Performance Rating and Age\")\n",
        "plt.xlabel(\"Age\")\n",
        "plt.ylabel(\"Performance Rating\")"
      ],
      "metadata": {
        "id": "e5EaoWvWxJzM"
      },
      "execution_count": null,
      "outputs": []
    },
    {
      "cell_type": "markdown",
      "source": [
        "**Comment**\n",
        "\n",
        "- The graph shows the relationship between age and performance rating, with the performance rating fluctuating between approximately 2.25 and 4.0. Initially, individuals in their early 20s show higher variability in performance ratings, but as age increases, the variability decreases and stabilizes around a rating of 3.0. This trend remains relatively consistent for most of the age range, with slight fluctuations. Notably, there are some increases in variability in performance ratings at the higher age brackets, particularly as individuals approach 60 years old. Overall, while there are variations, the average performance rating hovers around 3.0 across different ages."
      ],
      "metadata": {
        "id": "H9lEYBHzxNBS"
      }
    },
    {
      "cell_type": "code",
      "source": [
        "# Barplot EmpJobRole vs PerformanceRating\n",
        "sns.barplot(data=df, x=\"EmpJobRole\", y=\"PerformanceRating\")\n",
        "plt.xticks(rotation=45,ha=\"right\")\n",
        "plt.title(\"EmpJobRole vs PerformanceRating\")\n",
        "plt.xlabel(\"EmpJobRole\")\n",
        "plt.ylabel(\"PerformanceRating\")"
      ],
      "metadata": {
        "id": "rtGgz_L9xV52"
      },
      "execution_count": null,
      "outputs": []
    },
    {
      "cell_type": "markdown",
      "source": [
        "**Comment**\n",
        "\n",
        "- Shows the average performance scores for the different positions held by members of the organisation. Every bar signifies a distinct work role, and the bar's height corresponds to the role's average performance rating. The graph indicates that, with a few minor exceptions, performance ratings are generally constant for the majority of occupational roles. It's possible that different job demands or performance standards are reflected in the roles with higher or lower average ratings. The x-axis labels are rotated for easier reading, and the code makes use of Seaborn's barplot function to ensure that the comparison of performance ratings across various job roles is understandable and instructive."
      ],
      "metadata": {
        "id": "g2d6e3HbxYFO"
      }
    },
    {
      "cell_type": "code",
      "source": [
        "# Relatioship between MaritalStatus vs PerformanceRating\n",
        "plt.figure(figsize=(8, 6))\n",
        "sns.relplot(\n",
        "    data=df, kind=\"line\",\n",
        "    x=\"MaritalStatus\", y=\"PerformanceRating\",\n",
        "    hue=\"MaritalStatus\",\n",
        "    style=\"MaritalStatus\",\n",
        "    markers=True,\n",
        "    dashes=False)"
      ],
      "metadata": {
        "id": "jsAb34IJxbZW"
      },
      "execution_count": null,
      "outputs": []
    },
    {
      "cell_type": "markdown",
      "source": [
        "**Comment**\n",
        "\n",
        "- The chart demonstrates the differences in performance ratings between the three marital statuses of single, married, and divorced. The average performance rating for each person in each marital status category is shown by each point on the chart; error bars show variability. Given that \"Single\" employees have a little higher average rating than \"Married\" and \"Divorced\" employees, the plot implies that there are not much variances in performance ratings based on marital status. The code clearly separates the marital status groups using Seaborn's relplot function with markers and several styles. This graphic shows that performance ratings are not much impacted by a person's marital status."
      ],
      "metadata": {
        "id": "8vq3xsMBxd3u"
      }
    },
    {
      "cell_type": "code",
      "execution_count": null,
      "metadata": {
        "id": "XuHUKnY7wLu2"
      },
      "outputs": [],
      "source": [
        "# correlation matrix\n",
        "\n",
        "# Remove non-numeric columns from the DataFrame\n",
        "numeric_df = df.select_dtypes(include=['float64', 'int64'])\n",
        "\n",
        "# Calculate the correlation matrix\n",
        "correlation = numeric_df.corr()\n",
        "\n",
        "# visualize the correlation matrix\n",
        "plt.figure(figsize=(14, 8))\n",
        "sns.heatmap(correlation, annot=True, cmap='coolwarm', fmt='.2f')\n",
        "plt.title('Correlation Matrix')\n",
        "plt.show()\n"
      ]
    },
    {
      "cell_type": "code",
      "execution_count": null,
      "metadata": {
        "id": "WX07z9VOwLu5"
      },
      "outputs": [],
      "source": [
        "# Plotting the correlation values for PerformanceRating\n",
        "plt.figure(figsize=(10, 6))\n",
        "performance_correlation.drop('PerformanceRating').plot(kind='bar', color='skyblue')\n",
        "plt.title('Correlation with Performance Rating')\n",
        "plt.ylabel('Correlation Value')\n",
        "plt.show()"
      ]
    },
    {
      "cell_type": "markdown",
      "metadata": {
        "id": "GuaierR0wLu5"
      },
      "source": [
        "OBSERVATIONS:\n",
        "\n",
        "Some observations based on the distribution of the selected columns:\n",
        "\n",
        "Age:\n",
        "\n",
        "- The average age of employees is approximately 37 years, with a standard deviation of around 9 years.\n",
        "- The youngest employee is 18 years old, and the oldest is 60 years old.\n",
        "- The age distribution is relatively spread out, with 50% of the employees aged between 30 and 43 years.\n",
        "\n",
        "Distance From Home:\n",
        "\n",
        "- On average, employees live about 9.17 units of distance from their workplace, with a standard deviation of about 8.18 units.\n",
        "- The distance ranges from 1 to 29 units, indicating a wide variance in how far employees live from work.\n",
        "- The majority of employees live within 2 to 14 units of distance from work.\n",
        "\n",
        "Total Work Experience in Years:\n",
        "\n",
        "- The average total work experience is around 11.33 years, with a significant variation as indicated by the standard deviation of 7.80 years.\n",
        "- Some employees have no work experience (0 years), while others have as much as 40 years of experience.\n",
        "- Most employees have between 6 and 15 years of work experience.\n",
        "\n",
        "Experience Years at This Company:\n",
        "\n",
        "- Employees have an average of 7.08 years of experience at this company, with a standard deviation of 6.24 years.\n",
        "- The minimum experience at the company is 0 years, and the maximum is 40 years, suggesting that some employees are new hires while others have been with the company for a very long time.\n",
        "- Half of the employees have between 3 and 10 years of experience at the company.\n",
        "\n",
        "Training Times Last Year:\n",
        "\n",
        "- On average, employees underwent training approximately 2.79 times last year, with a standard deviation of 1.26.\n",
        "- The number of training sessions ranges from 0 to 6, indicating variability in how often employees receive training.\n",
        "- Most employees attended 2 to 3 training sessions last year.\n",
        "\n",
        "Performance Rating:\n",
        "\n",
        "- The average performance rating is around 2.95, with a standard deviation of 0.52.\n",
        "- The ratings range from 2 to 4, indicating that no employees have the lowest or highest possible ratings(assuming that the lowest and highest scores are 1 and 5 respectively)\n",
        "- The majority of employees received a performance rating of 3.\n",
        "\n",
        "\n",
        "The correlation analysis give us an initial understanding revealing some key insights into the factors affecting employee performance as follows:\n",
        "\n",
        "1. EmpEnvironmentSatisfaction (0.40): Employees who are more satisfied with their work environment tend to have higher performance ratings.\n",
        "2. EmpLastSalaryHikePercent (0.33): Employees who received a higher percentage salary hike are generally performing better.\n",
        "3. EmpWorkLifeBalance (0.12): A better work-life balance is associated with higher performance, although the correlation is weaker.\n",
        "\n",
        "Some factors have a negative correlation with performance, indicating they might be associated with lower performance ratings:\n",
        "\n",
        "1. YearsSinceLastPromotion (-0.17): Employees who have not been promoted in a long time might be less motivated, leading to lower performance.\n",
        "2. ExperienceYearsInCurrentRole (-0.15): Staying too long in the same role without advancement might negatively impact performance.\n",
        "3. YearsWithCurrManager (-0.12): Extended time with the same manager could also be associated with lower performance."
      ]
    },
    {
      "cell_type": "markdown",
      "metadata": {
        "id": "pPkBlh92wLu6"
      },
      "source": [
        "4. DEPARTMENT WISE PERFORMANCE"
      ]
    },
    {
      "cell_type": "code",
      "execution_count": null,
      "metadata": {
        "id": "6GZ87Rt8wLu7"
      },
      "outputs": [],
      "source": [
        "# Grouping the data by department and calculating the average performance rating for each department\n",
        "department_performance = df.groupby('EmpDepartment')['PerformanceRating'].mean().reset_index()\n",
        "\n",
        "# Renaming the columns for clarity\n",
        "department_performance.columns = ['Department', 'AveragePerformanceRating']\n",
        "\n",
        "# Sorting the results by performance rating for better visualization\n",
        "department_performance = department_performance.sort_values(by='AveragePerformanceRating', ascending=False)\n",
        "\n",
        "# Plotting the average performance rating for each department with different colors for each department\n",
        "plt.figure(figsize=(10, 6))\n",
        "colors = plt.cm.Paired(range(len(department_performance)))  # Using a colormap for different colors\n",
        "bars = plt.barh(department_performance['Department'], department_performance['AveragePerformanceRating'], color=colors)\n",
        "\n",
        "# Adding the figures on the bars\n",
        "for bar in bars:\n",
        "    plt.text(bar.get_width() + 0.01, bar.get_y() + bar.get_height()/2,\n",
        "             f'{bar.get_width():.2f}', va='center', fontsize=10)\n",
        "\n",
        "plt.xlabel('Average Performance Rating')\n",
        "plt.ylabel('Department')\n",
        "plt.title('Average Performance Rating by Department')\n",
        "plt.gca().invert_yaxis()  # To have the highest rating at the top\n",
        "plt.show()"
      ]
    },
    {
      "cell_type": "markdown",
      "metadata": {
        "id": "ZlQ_YWt-wLu8"
      },
      "source": [
        "OBSERVATION:\n",
        "\n",
        "There is no significant variability in performance across departments with development department having the highest average performance rating of 3.09 and the finance department having the lowest average performance rating."
      ]
    },
    {
      "cell_type": "markdown",
      "metadata": {
        "id": "vl4ZrJDZwLu9"
      },
      "source": [
        "Marital Status Analysis with other features"
      ]
    },
    {
      "cell_type": "code",
      "source": [
        "df['MaritalStatus'].value_counts()"
      ],
      "metadata": {
        "id": "Z1czYpGAz2oj"
      },
      "execution_count": null,
      "outputs": []
    },
    {
      "cell_type": "code",
      "execution_count": null,
      "metadata": {
        "id": "_JYTOCagwLu9"
      },
      "outputs": [],
      "source": [
        "#pie chart for Marital Status analysis\n",
        "plt.figure(figsize = (15,10))\n",
        "percent_1=[]\n",
        "for i in df['MaritalStatus'].value_counts():\n",
        "    percent_1.append(i)\n",
        "\n",
        "plt.subplot(2,2,1)\n",
        "plt.pie(percent_1,labels=[\"Married\",\"Single\",\"Divorced\"],\n",
        "        explode = [0,0,0], autopct = \"%0.2f%%\", startangle =46,\n",
        "        pctdistance = 0.65,textprops = {\"fontsize\":15,\"fontweight\":\"bold\",'color':\"k\"},\n",
        "        rotatelabels=False)\n",
        "        #colors = color)\n",
        "plt.title(\"Marrital Status analysis\\n\",fontsize=20,fontweight='bold')\n",
        "\n",
        "#countplot for Gender vs Marital Status\n",
        "plt.subplot(2,2,2)\n",
        "ax = sns.countplot(x=df['Gender'],hue= df[\"MaritalStatus\"],palette=\"YlOrRd\")\n",
        "plt.title(\"Marital Status with Gender analysis\\n\",fontweight=\"bold\",fontsize=20)\n",
        "plt.xlabel(\"\\nGender\")\n",
        "plt.ylabel(\"Count\\n\")\n",
        "legend = plt.legend(prop={\"size\":13})\n",
        "legend.set_title(\"Marital Status\\n\",prop={\"size\":15,\"weight\":\"bold\"})\n",
        "plt.setp(legend.get_texts(), color='black')\n",
        "legend.draw_frame(False)\n",
        "\n",
        "\n",
        "#countplot for Marital status vs Travel Frequency\n",
        "plt.subplot(2,2,3)\n",
        "ax = sns.countplot(x= df['BusinessTravelFrequency'],hue=df['MaritalStatus'],palette=\"mako\")\n",
        "plt.title(\"Business Travel frequency by Marital Status\",fontweight=\"bold\",fontsize=20)\n",
        "plt.xlabel(\"Travel Frequency\")\n",
        "plt.ylabel(\"Count\")\n",
        "legend = plt.legend(prop={\"size\":13})\n",
        "legend.set_title(\"Gender\",prop={\"size\":15,\"weight\":\"bold\"})\n",
        "plt.setp(legend.get_texts(), color='black')\n",
        "legend.draw_frame(False)\n",
        "\n",
        "plt.tight_layout(pad=2)\n",
        "\n",
        "#Countplot for Marital Status vs Overtime\n",
        "plt.subplot(2,2,4)\n",
        "ax = sns.countplot(x= df['OverTime'],hue=df['MaritalStatus'],palette=\"husl\")\n",
        "plt.title(\"Overtime by Marital Status\",fontweight=\"bold\",fontsize=20)\n",
        "plt.xlabel(\"Over Time\")\n",
        "plt.ylabel(\"Count\")\n",
        "legend = plt.legend(prop={\"size\":13})\n",
        "legend.set_title(\"Marital Status\",prop={\"size\":15,\"weight\":\"bold\"})\n",
        "plt.setp(legend.get_texts(), color='black')\n",
        "legend.draw_frame(False)\n",
        "\n",
        "plt.tight_layout(pad=2)\n"
      ]
    },
    {
      "cell_type": "code",
      "source": [
        "# Performance Rating Across Categorical Variables\n",
        "categorical_columns = ['Gender', 'EducationBackground', 'MaritalStatus', 'EmpDepartment',\n",
        "                       'EmpJobRole', 'BusinessTravelFrequency', 'OverTime', 'Attrition']\n",
        "\n",
        "# Set up the plotting area for subplots\n",
        "plt.figure(figsize=(14, 16))\n",
        "\n",
        "# Loop through the categorical columns and create a count plot for each\n",
        "for i, column in enumerate(categorical_columns, 1):\n",
        "    plt.subplot(4, 2, i)\n",
        "    sns.countplot(hue=column, x='PerformanceRating', data=df, palette='tab10')\n",
        "    plt.title(f'Performance Rating by {column}')\n",
        "    plt.xlabel(column)\n",
        "    plt.ylabel('Count')\n",
        "    plt.xticks(rotation=45)\n",
        "    plt.legend(title='Performance Rating')\n",
        "\n",
        "plt.tight_layout()\n",
        "plt.show()"
      ],
      "metadata": {
        "id": "rM-d4VCF58Qc"
      },
      "execution_count": null,
      "outputs": []
    },
    {
      "cell_type": "markdown",
      "source": [
        "**Comment**\n",
        "\n",
        "- By looking at which count plots in the series have the most diverse distributions, you may determine which categorical variables from the count plots exhibit the most noticeable variations in performance ratings. In particular, the variables that frequently show the most obvious variations in the distribution of performance ratings across their categories are EmpDepartment, EmpJobRole, and Attrition. Employees who have left the company (attrition) may have a distinct pattern in their performance ratings when compared to those who stayed, and various departments or job types may have considerably different counts of high or low performance ratings. According to the visual analysis the plots provide, these variables probably have the biggest effects on performance evaluations or the strongest relationships with them."
      ],
      "metadata": {
        "id": "GeHpxX0I6Ack"
      }
    },
    {
      "cell_type": "code",
      "source": [
        "# Average Performance Rating by EmpDepartment and Selected Variables\n",
        "columns_analyze = ['Age', 'DistanceFromHome', 'EmpHourlyRate', 'EmpLastSalaryHikePercent',\n",
        "                   'TotalWorkExperienceInYears', 'ExperienceYearsInCurrentRole', 'YearsSinceLastPromotion', 'YearsWithCurrManager']\n",
        "\n",
        "# Set up the plotting area for subplots\n",
        "plt.figure(figsize=(14, 16))\n",
        "\n",
        "# Loop through the columns to analyze and create a bar plot for each\n",
        "for i, column in enumerate(columns_analyze, 1):\n",
        "    plt.subplot(4, 2, i)\n",
        "\n",
        "    # Create a barplot showing ave\n",
        "# Create a barplot showing average performance rating per department for each selected column\n",
        "    avg_performance = df.groupby(['EmpDepartment', column])['PerformanceRating'].mean().reset_index()\n",
        "\n",
        "    # Plot\n",
        "    sns.barplot(x='EmpDepartment', y='PerformanceRating', data=avg_performance, palette=\"Set2\")\n",
        "    plt.title(f'Average Performance Rating by {column}')\n",
        "    plt.xlabel('EmpDepartment')\n",
        "    plt.ylabel('Average Performance Rating')\n",
        "    plt.xticks(rotation=45)\n",
        "    plt.legend(title=column)\n",
        "\n",
        "plt.tight_layout()\n",
        "plt.show()"
      ],
      "metadata": {
        "id": "IixVI7iy6Fwy"
      },
      "execution_count": null,
      "outputs": []
    },
    {
      "cell_type": "markdown",
      "source": [
        "**Comment**\n",
        "\n",
        "- The average performance rating across departments is displayed in a series of bar plots that were created taking into account a number of variables, including age, home distance, hourly rate, percentage of last salary increase, total work experience, years in the current role, years since the last promotion, and years with the current manager. The data reveals that the departments with the biggest range in average performance evaluations are those with YearsWithCurrManager, YearsSinceLastPromotion, and TotalWorkExperienceInYears. These factors seem to have the biggest effects on how employees are ranked in various areas, indicating that managerial relationships and experience could be important factors in employee performance evaluations."
      ],
      "metadata": {
        "id": "jJ3W2Wf76JKq"
      }
    },
    {
      "cell_type": "markdown",
      "metadata": {
        "id": "u5pIepgZwLu-"
      },
      "source": [
        "5. DATA PREPROCESSING"
      ]
    },
    {
      "cell_type": "code",
      "execution_count": null,
      "metadata": {
        "id": "heA-CjoAwLu_"
      },
      "outputs": [],
      "source": [
        "# Drop columns that are not necessary or might not be relevant to prediction\n",
        "df_processed = df.drop(['EmpNumber','Attrition'], axis=1)\n",
        "\n",
        "# Encoding categorical variables\n",
        "categorical_cols = df_processed.select_dtypes(include=['object']).columns\n",
        "\n",
        "label_encoders = {}\n",
        "for col in categorical_cols:\n",
        "    le = LabelEncoder()\n",
        "    df_processed[col] = le.fit_transform(df_processed[col])\n",
        "    label_encoders[col] = le\n",
        "\n",
        "# Define features and target variable\n",
        "X = df_processed.drop('PerformanceRating', axis=1)\n",
        "y = df_processed['PerformanceRating']\n",
        "\n",
        "# Split the data into training and testing sets\n",
        "X_train, X_test, y_train, y_test = train_test_split(X, y, test_size=0.2, random_state=42)\n"
      ]
    },
    {
      "cell_type": "markdown",
      "metadata": {
        "id": "3j96uVXywLu_"
      },
      "source": [
        "6. MODEL BUILDING,TRAINING AND EVALUATION"
      ]
    },
    {
      "cell_type": "code",
      "execution_count": null,
      "metadata": {
        "id": "vhd5DYQrwLvA"
      },
      "outputs": [],
      "source": [
        "# Building a RandomForestClassifier model\n",
        "model = RandomForestClassifier(random_state=42)\n",
        "model.fit(X_train, y_train)\n",
        "\n",
        "# Predicting performance on the test set\n",
        "y_pred = model.predict(X_test)\n",
        "\n",
        "# Evaluating the model\n",
        "classification_rep = classification_report(y_test, y_pred)\n",
        "conf_matrix = confusion_matrix(y_test, y_pred)\n",
        "\n",
        "# Getting feature importances\n",
        "feature_importances = pd.DataFrame({\n",
        "    'Feature': X.columns,\n",
        "    'Importance': model.feature_importances_\n",
        "}).sort_values(by='Importance', ascending=False)\n",
        "\n",
        "print(classification_rep, conf_matrix, feature_importances)\n"
      ]
    },
    {
      "cell_type": "code",
      "execution_count": null,
      "metadata": {
        "id": "53cSVga5wLvB"
      },
      "outputs": [],
      "source": [
        "# Visualizing the top feature importances\n",
        "plt.figure(figsize=(10, 6))\n",
        "plt.barh(feature_importances['Feature'][:], feature_importances['Importance'][:], color='skyblue')\n",
        "plt.xlabel('Importance')\n",
        "plt.ylabel('Feature')\n",
        "plt.title('Top 10 Feature Importances for Predicting Employee Performance')\n",
        "plt.gca().invert_yaxis()  # To have the most important feature at the top\n",
        "plt.show()"
      ]
    },
    {
      "cell_type": "code",
      "execution_count": null,
      "metadata": {
        "colab": {
          "base_uri": "https://localhost:8080/"
        },
        "id": "UhK2R8PFwLvD",
        "outputId": "426609f1-d63d-4331-a777-b96f921fe376"
      },
      "outputs": [
        {
          "output_type": "stream",
          "name": "stdout",
          "text": [
            "Fitting 5 folds for each of 108 candidates, totalling 540 fits\n"
          ]
        }
      ],
      "source": [
        "# Initialize the RandomForestClassifier fine-tuned model\n",
        "rf_classifier = RandomForestClassifier(random_state=42)\n",
        "\n",
        "# Set up the parameter grid for GridSearchCV\n",
        "param_grid = {\n",
        "    'n_estimators': [100, 200, 300],\n",
        "    'max_depth': [10, 20, 30, None],\n",
        "    'min_samples_split': [2, 5, 10],\n",
        "    'min_samples_leaf': [1, 2, 4]\n",
        "}\n",
        "\n",
        "# Initialize GridSearchCV\n",
        "grid_search = GridSearchCV(estimator=rf_classifier, param_grid=param_grid, cv=5, n_jobs=-1, verbose=2)\n",
        "\n",
        "# Train the model with GridSearchCV\n",
        "grid_search.fit(X_train, y_train)\n",
        "\n",
        "# Get the best model from GridSearchCV\n",
        "best_rf_model = grid_search.best_estimator_\n",
        "\n",
        "# Make predictions on the test set\n",
        "y_pred = best_rf_model.predict(X_test)\n",
        "\n",
        "# Evaluate the model's performance\n",
        "accuracy = accuracy_score(y_test, y_pred)\n",
        "conf_matrix = confusion_matrix(y_test, y_pred)\n",
        "class_report = classification_report(y_test, y_pred)\n",
        "\n",
        "print(f'Accuracy: {accuracy}')\n",
        "print('Confusion Matrix:')\n",
        "print(conf_matrix)\n",
        "print('Classification Report:')\n",
        "print(class_report)"
      ]
    },
    {
      "cell_type": "code",
      "execution_count": null,
      "metadata": {
        "id": "F-IqawP1wLvE"
      },
      "outputs": [],
      "source": [
        "# Initialize and train the XGBoost model\n",
        "\n",
        "# Encode the target variable\n",
        "label_encoder = LabelEncoder()\n",
        "y_encoded = label_encoder.fit_transform(y)\n",
        "\n",
        "# Split the data\n",
        "X_train, X_test, y_train, y_test = train_test_split(X, y_encoded, test_size=0.2, random_state=42)\n",
        "\n",
        "xgb_model = XGBClassifier(use_label_encoder=False, eval_metric='mlogloss', random_state=42)\n",
        "xgb_model.fit(X_train, y_train)\n",
        "\n",
        "# Make predictions\n",
        "y_pred_xgb = xgb_model.predict(X_test)\n",
        "\n",
        "# Evaluate the model\n",
        "xgb_accuracy = accuracy_score(y_test, y_pred_xgb)\n",
        "xgb_conf_matrix = confusion_matrix(y_test, y_pred_xgb)\n",
        "xgb_report = classification_report(y_test, y_pred_xgb)\n",
        "\n",
        "print(xgb_accuracy)\n",
        "print(xgb_conf_matrix)\n",
        "print(xgb_report)"
      ]
    },
    {
      "cell_type": "code",
      "execution_count": null,
      "metadata": {
        "id": "zJUvoYXwwLvF"
      },
      "outputs": [],
      "source": [
        "# COMPARING THE TWO MODELS\n",
        "# Random Forest\n",
        "print('Random Forest Classifier:')\n",
        "print(f'Accuracy: {accuracy}')\n",
        "print('Confusion Matrix:')\n",
        "print(conf_matrix)\n",
        "print('Classification Report:')\n",
        "print(class_report)\n",
        "\n",
        "# XGBoost\n",
        "print('XGBoost Classifier:')\n",
        "print(f'Accuracy: {xgb_accuracy}')\n",
        "print('Confusion Matrix:')\n",
        "print(xgb_conf_matrix)\n",
        "print('Classification Report:')\n",
        "print(xgb_report)"
      ]
    },
    {
      "cell_type": "markdown",
      "metadata": {
        "id": "ijgGh154wLvG"
      },
      "source": [
        "7. CONCLUSION\n",
        "\n",
        "- The RandomForestClassifier,fine-tuned with GridSearchCV, predictive model slightly outperformed XGBoost model with 0.01% accuracy. It achieved a 95% accuracy in predicting employee performance by analyzing patterns in historical data.\n",
        "\n",
        "- Employee environment satisfaction is the most significant factor affecting performance: A comfortable and motivating work environment directly correlates with higher performance.\n",
        "\n",
        "- The percentage of salary hikes is closely linked to employee performance: Employees who feel they are fairly compensated are more motivated to perform well.\n",
        "\n",
        "- The analysis shows that years since the last promotion negatively impact performance: Employees who feel stuck in their roles may become disengaged.\n",
        "\n",
        "- Work-life balance is another factor influencing performance: Employees who maintain a healthy balance between work and personal life tend to perform better.\n"
      ]
    },
    {
      "cell_type": "markdown",
      "metadata": {
        "id": "0QG8OztnwLwx"
      },
      "source": [
        "8. RECOMMENDATIONS:\n",
        "\n",
        "- Develop and deploy a RandomForestClassifier(with GridSearchCV) employee performance predictive model for use by INX Future Inc. to hire new employees.\n",
        "\n",
        "- Enhance Employee Environment Satisfaction by conducting regular employee satisfaction surveys to identify specific areas for improvement.\n",
        "\n",
        "- Implement a performance-based salary increase system where high performers are rewarded with more significant hikes.\n",
        "\n",
        "- Ensure transparency in the salary hike process, so employees understand how their performance impacts their compensation.\n",
        "\n",
        "- Create clear career progression paths and communicate these opportunities to employees."
      ]
    },
    {
      "cell_type": "markdown",
      "metadata": {
        "id": "BGmROLOvwLwy"
      },
      "source": []
    }
  ],
  "metadata": {
    "kernelspec": {
      "display_name": "Python 3",
      "language": "python",
      "name": "python3"
    },
    "language_info": {
      "codemirror_mode": {
        "name": "ipython",
        "version": 3
      },
      "file_extension": ".py",
      "mimetype": "text/x-python",
      "name": "python",
      "nbconvert_exporter": "python",
      "pygments_lexer": "ipython3",
      "version": "3.12.4"
    },
    "colab": {
      "provenance": []
    }
  },
  "nbformat": 4,
  "nbformat_minor": 0
}